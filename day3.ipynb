{
 "cells": [
  {
   "cell_type": "code",
   "execution_count": 7,
   "id": "f6aa6490",
   "metadata": {},
   "outputs": [
    {
     "name": "stdout",
     "output_type": "stream",
     "text": [
      "words are 3\n"
     ]
    }
   ],
   "source": [
    "str=input()\n",
    "count=1\n",
    "for i in str:\n",
    "  if i==' ':\n",
    "    count=count+1\n",
    "print(\"words are\",count)"
   ]
  },
  {
   "cell_type": "code",
   "execution_count": 15,
   "id": "f7eec5ef",
   "metadata": {},
   "outputs": [
    {
     "name": "stdout",
     "output_type": "stream",
     "text": [
      "No\n"
     ]
    }
   ],
   "source": [
    "pwd=input()\n",
    "has_low=False\n",
    "has_up=False\n",
    "has_dig=False\n",
    "has_spl=False\n",
    "for p in pwd:\n",
    "    if p.islower():\n",
    "           has_low=True\n",
    "    elif p.isupper():\n",
    "           has_up=True\n",
    "    elif p.isdigit():\n",
    "           has_dig=True\n",
    "    elif  not p.isalnum():\n",
    "           has_spl=True\n",
    "\n",
    "if  len(pwd)>=8 and has_low and has_up and has_dig and has_spl:\n",
    "        print(\"Strong\")\n",
    "else:\n",
    "        print(\"No\")"
   ]
  },
  {
   "cell_type": "code",
   "execution_count": 34,
   "id": "17331fbd",
   "metadata": {},
   "outputs": [
    {
     "name": "stdout",
     "output_type": "stream",
     "text": [
      "9\n"
     ]
    }
   ],
   "source": [
    "class Calc: \n",
    "  def __init__(self,a,b):\n",
    "    self.a=a\n",
    "    self.b=b\n",
    "  def add(self):\n",
    "    return self.a+self.b\n",
    "  def sub(self):\n",
    "    return self.a-self.b\n",
    "  def mul(self):\n",
    "    return self.a*self.b\n",
    "  def div(self):\n",
    "    return self.a/self.b\n",
    "a=int(input())\n",
    "b=int(input())\n",
    "o=Calc(a,b)\n",
    "print(o.add())"
   ]
  },
  {
   "cell_type": "code",
   "execution_count": 62,
   "id": "a02ddcd0",
   "metadata": {},
   "outputs": [
    {
     "name": "stdout",
     "output_type": "stream",
     "text": [
      "[2, 3]\n"
     ]
    }
   ],
   "source": [
    "lst=[2,3,4,2,2,2,5,3,7,8,9]\n",
    "lst2=[]\n",
    "for i in lst:\n",
    "    if lst.count(i)>1 and i not in lst2:\n",
    "       lst2.append(i)\n",
    "print(lst2)"
   ]
  },
  {
   "cell_type": "code",
   "execution_count": 72,
   "id": "1a6f02a9",
   "metadata": {},
   "outputs": [
    {
     "name": "stdout",
     "output_type": "stream",
     "text": [
      "98.60000000000001\n"
     ]
    }
   ],
   "source": [
    "C=int(input())\n",
    "def change(C):\n",
    "   F=(9/5*C)+32\n",
    "   print(F)\n",
    "change(C)"
   ]
  },
  {
   "cell_type": "code",
   "execution_count": null,
   "id": "934f7207",
   "metadata": {},
   "outputs": [
    {
     "ename": "TypeError",
     "evalue": "'list' object is not callable",
     "output_type": "error",
     "traceback": [
      "\u001b[1;31m---------------------------------------------------------------------------\u001b[0m",
      "\u001b[1;31mTypeError\u001b[0m                                 Traceback (most recent call last)",
      "Cell \u001b[1;32mIn[91], line 2\u001b[0m\n\u001b[0;32m      1\u001b[0m l \u001b[38;5;241m=\u001b[39m \u001b[38;5;28mmap\u001b[39m(\u001b[38;5;28mint\u001b[39m,\u001b[38;5;28minput\u001b[39m()\u001b[38;5;241m.\u001b[39msplit())\n\u001b[1;32m----> 2\u001b[0m l\u001b[38;5;241m=\u001b[39m\u001b[38;5;28mlist\u001b[39m(l)\n",
      "\u001b[1;31mTypeError\u001b[0m: 'list' object is not callable"
     ]
    }
   ],
   "source": [
    "\n",
    "\n"
   ]
  },
  {
   "cell_type": "code",
   "execution_count": 89,
   "id": "a708643a",
   "metadata": {},
   "outputs": [
    {
     "ename": "TypeError",
     "evalue": "'list' object is not callable",
     "output_type": "error",
     "traceback": [
      "\u001b[1;31m---------------------------------------------------------------------------\u001b[0m",
      "\u001b[1;31mTypeError\u001b[0m                                 Traceback (most recent call last)",
      "Cell \u001b[1;32mIn[89], line 1\u001b[0m\n\u001b[1;32m----> 1\u001b[0m lt1 \u001b[38;5;241m=\u001b[39m \u001b[38;5;28mlist\u001b[39m(\u001b[38;5;28mmap\u001b[39m(\u001b[38;5;28mint\u001b[39m,\u001b[38;5;28minput\u001b[39m()\u001b[38;5;241m.\u001b[39msplit()))\n",
      "\u001b[1;31mTypeError\u001b[0m: 'list' object is not callable"
     ]
    }
   ],
   "source": [
    "lt1 = list(map(int,input().split()))\n"
   ]
  },
  {
   "cell_type": "code",
   "execution_count": null,
   "id": "e098b4cf",
   "metadata": {},
   "outputs": [],
   "source": []
  }
 ],
 "metadata": {
  "kernelspec": {
   "display_name": "base",
   "language": "python",
   "name": "python3"
  },
  "language_info": {
   "codemirror_mode": {
    "name": "ipython",
    "version": 3
   },
   "file_extension": ".py",
   "mimetype": "text/x-python",
   "name": "python",
   "nbconvert_exporter": "python",
   "pygments_lexer": "ipython3",
   "version": "3.13.5"
  }
 },
 "nbformat": 4,
 "nbformat_minor": 5
}
