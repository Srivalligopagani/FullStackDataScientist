{
 "cells": [
  {
   "cell_type": "code",
   "execution_count": null,
   "id": "68be8bd1",
   "metadata": {},
   "outputs": [],
   "source": [
    "print(10)"
   ]
  },
  {
   "cell_type": "code",
   "execution_count": 1,
   "id": "3c5e7939",
   "metadata": {},
   "outputs": [
    {
     "name": "stdout",
     "output_type": "stream",
     "text": [
      "Hoi\n"
     ]
    }
   ],
   "source": [
    "print(\"Hoi\")"
   ]
  },
  {
   "cell_type": "code",
   "execution_count": 9,
   "id": "159e067c",
   "metadata": {},
   "outputs": [
    {
     "name": "stdout",
     "output_type": "stream",
     "text": [
      "Not a prime\n"
     ]
    }
   ],
   "source": [
    "\n",
    "def isPrime(n):\n",
    "    if n<=1:\n",
    "        return False\n",
    "    for i in range(1,n):\n",
    "        if n%i==0:\n",
    "            return False\n",
    "n=int(input())\n",
    "if(isPrime(n)):\n",
    "   print(\"A prime number\")\n",
    "else:\n",
    "    print(\"Not a prime\")"
   ]
  },
  {
   "cell_type": "code",
   "execution_count": 18,
   "id": "b89f3592",
   "metadata": {},
   "outputs": [
    {
     "name": "stdout",
     "output_type": "stream",
     "text": [
      "True\n"
     ]
    }
   ],
   "source": [
    "str=input()\n",
    "def pal(str):\n",
    "    str=''.join(str.split()).lower()\n",
    "    return str==str[::-1]\n",
    "print(pal(str))\n"
   ]
  },
  {
   "cell_type": "code",
   "execution_count": 19,
   "id": "b2ae4100",
   "metadata": {},
   "outputs": [
    {
     "name": "stdout",
     "output_type": "stream",
     "text": [
      "True\n"
     ]
    }
   ],
   "source": [
    "\n",
    "def anag(w1,w2):\n",
    "    return sorted(w1.lower()) == sorted(w2.lower())\n",
    "w1=input()\n",
    "w2=input()\n",
    "print(anag(w1,w2))"
   ]
  },
  {
   "cell_type": "code",
   "execution_count": 20,
   "id": "d87d7314",
   "metadata": {},
   "outputs": [
    {
     "name": "stdout",
     "output_type": "stream",
     "text": [
      "Vowels=2,Consonants=3\n"
     ]
    }
   ],
   "source": [
    "\n",
    "def vowels(s):\n",
    "  vowels=\"aeiou\"\n",
    "  v=sum(1 for ch in s.lower() if ch in vowels )\n",
    "  c=sum(1 for ch in s.lower() if ch.isalpha() and  ch not in vowels)\n",
    "  return f\"Vowels={v},Consonants={c}\"\n",
    "s=input()\n",
    "print(vowels(s))\n"
   ]
  },
  {
   "cell_type": "code",
   "execution_count": 21,
   "id": "3a83fe93",
   "metadata": {},
   "outputs": [
    {
     "name": "stdout",
     "output_type": "stream",
     "text": [
      "amazing\n"
     ]
    }
   ],
   "source": [
    "def longest_word(sentence):\n",
    "    words = sentence.split()\n",
    "    longest = max(words, key=len)\n",
    "    return longest\n",
    "input_sentence = \"Python is amazing\"\n",
    "print(longest_word(input_sentence))  \n"
   ]
  },
  {
   "cell_type": "code",
   "execution_count": null,
   "id": "1aaa54b2",
   "metadata": {},
   "outputs": [
    {
     "name": "stdout",
     "output_type": "stream",
     "text": [
      "^JFQ`'\n"
     ]
    }
   ],
   "source": [
    "import random\n",
    "import string\n",
    "\n",
    "def password(length=6):\n",
    "    characters = string.ascii_letters + string.digits + string.punctuation\n",
    "    password = ''.join(random.choice(characters) for _ in range(length))\n",
    "    return password\n",
    "\n",
    "\n",
    "print(password(6))  \n"
   ]
  },
  {
   "cell_type": "code",
   "execution_count": null,
   "id": "b831ee30",
   "metadata": {},
   "outputs": [
    {
     "name": "stdout",
     "output_type": "stream",
     "text": [
      "5.0\n",
      "120\n",
      "0.8939966636005579\n",
      "1.0\n"
     ]
    }
   ],
   "source": [
    "import math\n",
    "print((math.sqrt(25)))      \n",
    "print((math.factorial(5))) \n",
    "print(math.sin(90)) \n",
    "print(math.cos(0))        \n"
   ]
  },
  {
   "cell_type": "code",
   "execution_count": 33,
   "id": "aa1086ef",
   "metadata": {},
   "outputs": [
    {
     "name": "stdout",
     "output_type": "stream",
     "text": [
      "{'cat': 2, 'dog': 1}\n"
     ]
    }
   ],
   "source": [
    "text = \"cat dog cat\"\n",
    "words = text.split()\n",
    "\n",
    "word_counts = {}\n",
    "\n",
    "for word in words:\n",
    "    if word in word_counts:\n",
    "        word_counts[word] += 1\n",
    "    else:\n",
    "        word_counts[word] = 1\n",
    "\n",
    "print(word_counts)\n"
   ]
  },
  {
   "cell_type": "code",
   "execution_count": 36,
   "id": "bc654ce8",
   "metadata": {},
   "outputs": [
    {
     "name": "stdout",
     "output_type": "stream",
     "text": [
      "Weather: Stormy, Temp: 17°C\n"
     ]
    }
   ],
   "source": [
    "import random\n",
    "weather_options = [\"Sunny\", \"Rainy\", \"Cloudy\", \"Stormy\", \"Snowy\", \"Windy\"]\n",
    "weather = random.choice(weather_options)\n",
    "if weather == \"Sunny\":\n",
    "    temp = random.randint(25, 40)\n",
    "elif weather == \"Rainy\":\n",
    "    temp = random.randint(18, 28)\n",
    "elif weather == \"Cloudy\":\n",
    "    temp = random.randint(20, 30)\n",
    "elif weather == \"Stormy\":\n",
    "    temp = random.randint(16, 25)\n",
    "elif weather == \"Snowy\":\n",
    "    temp = random.randint(-5, 5)\n",
    "else:  \n",
    "    temp = random.randint(15, 25)\n",
    "\n",
    "print(f\"Weather: {weather}, Temp: {temp}°C\")\n"
   ]
  },
  {
   "cell_type": "code",
   "execution_count": 37,
   "id": "223a23cd",
   "metadata": {},
   "outputs": [
    {
     "name": "stdout",
     "output_type": "stream",
     "text": [
      "5\n",
      "4\n",
      "3\n",
      "2\n",
      "1\n",
      "Time’s up!\n"
     ]
    }
   ],
   "source": [
    "import time\n",
    "\n",
    "def countdown(seconds):\n",
    "    for i in range(seconds, 0, -1):\n",
    "        print(i)\n",
    "        time.sleep(1)\n",
    "    print(\"Time’s up!\")\n",
    "\n",
    "# Example usage:\n",
    "countdown(5)\n"
   ]
  },
  {
   "cell_type": "code",
   "execution_count": null,
   "id": "82f890c5",
   "metadata": {},
   "outputs": [],
   "source": []
  }
 ],
 "metadata": {
  "kernelspec": {
   "display_name": "base",
   "language": "python",
   "name": "python3"
  },
  "language_info": {
   "codemirror_mode": {
    "name": "ipython",
    "version": 3
   },
   "file_extension": ".py",
   "mimetype": "text/x-python",
   "name": "python",
   "nbconvert_exporter": "python",
   "pygments_lexer": "ipython3",
   "version": "3.13.5"
  }
 },
 "nbformat": 4,
 "nbformat_minor": 5
}
